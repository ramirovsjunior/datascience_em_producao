{
 "cells": [
  {
   "cell_type": "markdown",
   "id": "59b03915",
   "metadata": {},
   "source": [
    "# 1.0. IMPORTS"
   ]
  },
  {
   "cell_type": "code",
   "execution_count": null,
   "id": "ad074a2c",
   "metadata": {
    "ExecuteTime": {
     "end_time": "2022-06-14T15:54:16.277276Z",
     "start_time": "2022-06-14T15:54:15.636090Z"
    }
   },
   "outputs": [],
   "source": [
    "!ipython --version"
   ]
  },
  {
   "cell_type": "code",
   "execution_count": null,
   "id": "d0f8fc64",
   "metadata": {
    "ExecuteTime": {
     "end_time": "2022-06-16T13:40:35.801395Z",
     "start_time": "2022-06-16T13:40:34.075079Z"
    }
   },
   "outputs": [],
   "source": [
    "# Libraries\n",
    "import pandas as pd\n",
    "import numpy as np\n",
    "import inflection\n",
    "import math\n",
    "import seaborn as sns\n",
    "\n",
    "from matplotlib import pyplot as plt\n",
    "from IPython.display import Image"
   ]
  },
  {
   "cell_type": "markdown",
   "id": "62ef9d87",
   "metadata": {},
   "source": [
    "## 1.1. Helper Functions"
   ]
  },
  {
   "cell_type": "markdown",
   "id": "7820b107",
   "metadata": {},
   "source": [
    "## 1.2. Loading Data"
   ]
  },
  {
   "cell_type": "code",
   "execution_count": null,
   "id": "0d1d7604",
   "metadata": {
    "ExecuteTime": {
     "end_time": "2022-06-16T13:40:40.218383Z",
     "start_time": "2022-06-16T13:40:39.129381Z"
    }
   },
   "outputs": [],
   "source": [
    "df_sales_raw = pd.read_csv('data/train.csv', low_memory=False)\n",
    "df_store_raw = pd.read_csv('data/store.csv', low_memory=False)\n",
    "\n",
    "# Merge\n",
    "df_raw = pd.merge(df_sales_raw, df_store_raw, how='left', on='Store')"
   ]
  },
  {
   "cell_type": "markdown",
   "id": "38c0ac55",
   "metadata": {
    "ExecuteTime": {
     "end_time": "2022-06-09T18:33:51.376346Z",
     "start_time": "2022-06-09T18:33:51.144251Z"
    },
    "heading_collapsed": true
   },
   "source": [
    "# 2.0. PASSO 01 - DESCRIÇÃO DOS DADOS"
   ]
  },
  {
   "cell_type": "code",
   "execution_count": null,
   "id": "eb2192de",
   "metadata": {
    "ExecuteTime": {
     "end_time": "2022-06-12T14:18:06.506121Z",
     "start_time": "2022-06-12T14:18:06.283821Z"
    },
    "hidden": true
   },
   "outputs": [],
   "source": [
    "df1 = df_raw.copy()"
   ]
  },
  {
   "cell_type": "markdown",
   "id": "2220e1cd",
   "metadata": {
    "hidden": true
   },
   "source": [
    "## 2.1. Rename Columns"
   ]
  },
  {
   "cell_type": "code",
   "execution_count": null,
   "id": "464849a0",
   "metadata": {
    "ExecuteTime": {
     "end_time": "2022-06-12T14:18:06.521696Z",
     "start_time": "2022-06-12T14:18:06.512924Z"
    },
    "hidden": true
   },
   "outputs": [],
   "source": [
    "cols_old = ['Store', 'DayOfWeek', 'Date', 'Sales', 'Customers', 'Open', 'Promo', 'StateHoliday', 'SchoolHoliday', \n",
    "            'StoreType', 'Assortment', 'CompetitionDistance', 'CompetitionOpenSinceMonth', 'CompetitionOpenSinceYear', \n",
    "            'Promo2', 'Promo2SinceWeek', 'Promo2SinceYear', 'PromoInterval']\n",
    "\n",
    "snakecase = lambda x: inflection.underscore(x)\n",
    "cols_new = list(map(snakecase, cols_old))\n",
    "\n",
    "# Rename\n",
    "df1.columns = cols_new"
   ]
  },
  {
   "cell_type": "markdown",
   "id": "45b70899",
   "metadata": {
    "ExecuteTime": {
     "end_time": "2022-06-09T18:41:54.461467Z",
     "start_time": "2022-06-09T18:41:54.448446Z"
    },
    "hidden": true
   },
   "source": [
    "## 2.2. Data Dimensions"
   ]
  },
  {
   "cell_type": "code",
   "execution_count": null,
   "id": "5f3f75ab",
   "metadata": {
    "ExecuteTime": {
     "end_time": "2022-06-12T14:18:06.532215Z",
     "start_time": "2022-06-12T14:18:06.524677Z"
    },
    "hidden": true
   },
   "outputs": [],
   "source": [
    "print('Numeber of rows {}'.format(df1.shape[0]))\n",
    "print('Numeber of cols {}'.format(df1.shape[1]))"
   ]
  },
  {
   "cell_type": "markdown",
   "id": "71a2db44",
   "metadata": {
    "hidden": true
   },
   "source": [
    "## 2.3. Data Types"
   ]
  },
  {
   "cell_type": "code",
   "execution_count": null,
   "id": "933a83fb",
   "metadata": {
    "ExecuteTime": {
     "end_time": "2022-06-12T14:18:06.679457Z",
     "start_time": "2022-06-12T14:18:06.543748Z"
    },
    "hidden": true
   },
   "outputs": [],
   "source": [
    "# Change format date\n",
    "df1['date'] = pd.to_datetime(df1['date'])\n",
    "df1.dtypes"
   ]
  },
  {
   "cell_type": "markdown",
   "id": "5896662d",
   "metadata": {
    "hidden": true
   },
   "source": [
    "## 2.4. Check NA"
   ]
  },
  {
   "cell_type": "code",
   "execution_count": null,
   "id": "d7cfcfec",
   "metadata": {
    "ExecuteTime": {
     "end_time": "2022-06-12T14:18:07.297250Z",
     "start_time": "2022-06-12T14:18:06.682428Z"
    },
    "hidden": true
   },
   "outputs": [],
   "source": [
    "df1.isna().sum()"
   ]
  },
  {
   "cell_type": "markdown",
   "id": "864f8c57",
   "metadata": {
    "hidden": true
   },
   "source": [
    "## 1.5. Fillout NA"
   ]
  },
  {
   "cell_type": "code",
   "execution_count": null,
   "id": "d85b28b0",
   "metadata": {
    "ExecuteTime": {
     "end_time": "2022-06-12T19:20:33.000126Z",
     "start_time": "2022-06-12T19:20:32.990586Z"
    },
    "hidden": true
   },
   "outputs": [],
   "source": [
    "# Max value\n",
    "df1['competition_distance'].max()"
   ]
  },
  {
   "cell_type": "code",
   "execution_count": null,
   "id": "dadbe827",
   "metadata": {
    "ExecuteTime": {
     "end_time": "2022-06-12T19:23:39.376251Z",
     "start_time": "2022-06-12T19:21:49.822784Z"
    },
    "hidden": true
   },
   "outputs": [],
   "source": [
    "# competition_distance \n",
    "df1['competition_distance'] = df1['competition_distance'].apply(lambda x: 2000000.0 if math.isnan(x) else x)\n",
    "\n",
    "# competition_open_since_month\n",
    "df1['competition_open_since_month'] = df1.apply(lambda x: x['date'].month if math.isnan(x['competition_open_since_month']) \n",
    "                                                else x['competition_open_since_month'], axis=1)\n",
    "\n",
    "# competition_open_since_year                            \n",
    "df1['competition_open_since_year'] = df1.apply(lambda x: x['date'].year if math.isnan(x['competition_open_since_year']) \n",
    "                                                else x['competition_open_since_year'], axis=1)\n",
    "\n",
    "# promo2_since_week\n",
    "df1['promo2_since_week'] = df1.apply(lambda x: x['date'].week if math.isnan(x['promo2_since_week']) \n",
    "                                                else x['promo2_since_week'], axis=1)\n",
    "# promo2_since_year\n",
    "df1['promo2_since_year'] = df1.apply(lambda x: x['date'].year if math.isnan(x['promo2_since_year']) \n",
    "                                                else x['promo2_since_year'], axis=1)\n",
    "# promo_interval      \n",
    "month_map = {1: 'Jan', 2: 'Feb', 3: 'Mar', 4: 'Apr', 5: 'May', 6: 'Jun', 7: 'Jul', 8: 'Aug', 9: 'Sept', 10: 'Oct', 11: 'Nov', 12: 'Dec', }\n",
    "\n",
    "# Does not return value, changes directly in column\n",
    "df1['promo_interval'].fillna(0, inplace=True)\n",
    "\n",
    "df1['month_map'] = df1['date'].dt.month.map(month_map)\n",
    "\n",
    "df1['is_promo'] = df1[['promo_interval', 'month_map']].apply(lambda x: 0 if x['promo_interval'] == 0 \n",
    "                                                             else 1 if x['month_map'] in x['promo_interval'].split(',') else 0, axis=1)"
   ]
  },
  {
   "cell_type": "code",
   "execution_count": null,
   "id": "84c2f6ea",
   "metadata": {
    "ExecuteTime": {
     "end_time": "2022-06-12T19:23:40.126770Z",
     "start_time": "2022-06-12T19:23:39.380199Z"
    },
    "hidden": true
   },
   "outputs": [],
   "source": [
    "df1.isna().sum()"
   ]
  },
  {
   "cell_type": "markdown",
   "id": "5815ff00",
   "metadata": {
    "hidden": true
   },
   "source": [
    "## 1.6. Change Types"
   ]
  },
  {
   "cell_type": "code",
   "execution_count": null,
   "id": "d838ebb4",
   "metadata": {
    "ExecuteTime": {
     "end_time": "2022-06-12T19:19:31.240686Z",
     "start_time": "2022-06-12T19:19:31.232346Z"
    },
    "hidden": true
   },
   "outputs": [],
   "source": [
    "# Verify Data Types\n",
    "df1.dtypes"
   ]
  },
  {
   "cell_type": "code",
   "execution_count": null,
   "id": "20decdf0",
   "metadata": {
    "ExecuteTime": {
     "end_time": "2022-06-12T15:13:30.569414Z",
     "start_time": "2022-06-12T15:13:30.532511Z"
    },
    "hidden": true
   },
   "outputs": [],
   "source": [
    "# Change data types\n",
    "df1['competition_open_since_month'] = df1['competition_open_since_month'].astype(int)\n",
    "df1['competition_open_since_year'] = df1['competition_open_since_year'].astype(int)\n",
    "df1['promo2_since_week'] = df1['promo2_since_week'].astype(int)\n",
    "df1['promo2_since_year'] = df1['promo2_since_year'].astype(int)"
   ]
  },
  {
   "cell_type": "markdown",
   "id": "decb19ce",
   "metadata": {
    "hidden": true
   },
   "source": [
    "## 1.7. Descriptive Statistical"
   ]
  },
  {
   "cell_type": "markdown",
   "id": "0092f142",
   "metadata": {
    "hidden": true
   },
   "source": [
    "### 1.7.1. Numerical Attributes"
   ]
  },
  {
   "cell_type": "code",
   "execution_count": null,
   "id": "376dee38",
   "metadata": {
    "ExecuteTime": {
     "end_time": "2022-06-12T19:19:51.997489Z",
     "start_time": "2022-06-12T19:19:48.839978Z"
    },
    "hidden": true
   },
   "outputs": [],
   "source": [
    "# Numeric Data.\n",
    "numeric_attributes = df1.select_dtypes(include=['int64', 'float64'])\n",
    "\n",
    "# Central Tendency - Numeric Data: mean and median.\n",
    "central_tendency_mean = pd.DataFrame(numeric_attributes.apply(np.mean)).T\n",
    "central_tendency_median = pd.DataFrame(numeric_attributes.apply(np.median)).T\n",
    "\n",
    "# Dispersion: std, min, max, range, skew and kurtosis.\n",
    "dispersion_std = pd.DataFrame(numeric_attributes.apply(np.std)).T\n",
    "dispersion_min = pd.DataFrame(numeric_attributes.apply(min)).T\n",
    "dispersion_max = pd.DataFrame(numeric_attributes.apply(max)).T\n",
    "dispersion_range = pd.DataFrame(numeric_attributes.apply(lambda x: x.max() - x.min())).T\n",
    "dispersion_skew = pd.DataFrame(numeric_attributes.apply(lambda x: x.skew())).T\n",
    "dispersion_kurtosis = pd.DataFrame(numeric_attributes.apply(lambda x: x.kurtosis())).T\n",
    "\n",
    "# Concatenate\n",
    "metrics = pd.concat([dispersion_min, dispersion_max, dispersion_range, dispersion_std,\n",
    "                    central_tendency_mean, central_tendency_median, dispersion_skew, dispersion_kurtosis]).T.reset_index()\n",
    "\n",
    "# Rename Columns\n",
    "metrics.columns = ['Attributes', 'Min', 'Max', 'Range', 'Std', 'Mean', 'Median', 'Skew', 'Kurtosis']"
   ]
  },
  {
   "cell_type": "code",
   "execution_count": null,
   "id": "99e5b923",
   "metadata": {
    "ExecuteTime": {
     "end_time": "2022-06-12T19:23:40.162839Z",
     "start_time": "2022-06-12T19:23:40.130811Z"
    },
    "hidden": true
   },
   "outputs": [],
   "source": [
    "metrics"
   ]
  },
  {
   "cell_type": "code",
   "execution_count": null,
   "id": "8769202c",
   "metadata": {
    "ExecuteTime": {
     "end_time": "2022-06-12T18:14:11.074995Z",
     "start_time": "2022-06-12T18:14:08.404830Z"
    },
    "hidden": true
   },
   "outputs": [],
   "source": [
    "sns.distplot(df1['competition_distance'])"
   ]
  },
  {
   "cell_type": "markdown",
   "id": "58a89730",
   "metadata": {
    "hidden": true
   },
   "source": [
    "### 1.7.2. Categorical Attributes"
   ]
  },
  {
   "cell_type": "code",
   "execution_count": null,
   "id": "c29c9a33",
   "metadata": {
    "ExecuteTime": {
     "end_time": "2022-06-12T18:16:47.250326Z",
     "start_time": "2022-06-12T18:16:47.244380Z"
    },
    "hidden": true
   },
   "outputs": [],
   "source": [
    "# Categorical Data\n",
    "categorical_attributes = df1.select_dtypes(exclude=['int64', 'float64', 'datetime64[ns]'])"
   ]
  },
  {
   "cell_type": "code",
   "execution_count": null,
   "id": "403b933d",
   "metadata": {
    "ExecuteTime": {
     "end_time": "2022-06-12T18:38:15.779748Z",
     "start_time": "2022-06-12T18:38:15.559234Z"
    },
    "hidden": true
   },
   "outputs": [],
   "source": [
    "# Check Number of Categorical Levels\n",
    "categorical_attributes.apply(lambda x: x.unique().shape[0])"
   ]
  },
  {
   "cell_type": "code",
   "execution_count": null,
   "id": "c180e1d3",
   "metadata": {
    "ExecuteTime": {
     "end_time": "2022-06-12T19:34:29.720102Z",
     "start_time": "2022-06-12T19:34:28.095267Z"
    },
    "hidden": true
   },
   "outputs": [],
   "source": [
    "# Filter with effective sales.\n",
    "effective_sales = df1[(df1['state_holiday'] != 0) & (df1['sales'] > 0)]\n",
    "\n",
    "# Graphic\n",
    "plt.subplot(1, 3, 1)\n",
    "sns.boxplot(x='state_holiday', y='sales', data=effective_sales)\n",
    "\n",
    "plt.subplot(1, 3, 2)\n",
    "sns.boxplot(x='store_type', y='sales', data=effective_sales)\n",
    "\n",
    "plt.subplot(1, 3, 3)\n",
    "sns.boxplot(x='assortment', y='sales', data=effective_sales)"
   ]
  },
  {
   "cell_type": "markdown",
   "id": "3942032f",
   "metadata": {},
   "source": [
    "# 2.0. PASSO 02 - FEATURE ENGINEERING"
   ]
  },
  {
   "cell_type": "markdown",
   "id": "e41e268a",
   "metadata": {},
   "source": [
    "## 2.1. Hypothesis Mind Map"
   ]
  },
  {
   "cell_type": "code",
   "execution_count": null,
   "id": "4928a9af",
   "metadata": {
    "ExecuteTime": {
     "end_time": "2022-06-14T16:00:04.790533Z",
     "start_time": "2022-06-14T16:00:04.761315Z"
    }
   },
   "outputs": [],
   "source": [
    "Image('img/mindmaphipotesis.png')"
   ]
  },
  {
   "cell_type": "markdown",
   "id": "f6b960be",
   "metadata": {},
   "source": [
    "## 2.2. Hypothesis Creation"
   ]
  },
  {
   "cell_type": "markdown",
   "id": "4dd88d32",
   "metadata": {},
   "source": [
    "### 2.2.1. Store Hypotheses"
   ]
  },
  {
   "cell_type": "markdown",
   "id": "2a64df46",
   "metadata": {},
   "source": [
    "1. Stores with more employees should sell more.\n",
    "2. Stores with greater inventory capacity should sell more.\n",
    "3. Larger stores should sell more.\n",
    "4. Stores with larger assortments should sell more.\n",
    "5. Stores with closer competitors should sell less.\n",
    "6. Stores with longer competitors should sell more."
   ]
  },
  {
   "cell_type": "markdown",
   "id": "9df458b7",
   "metadata": {},
   "source": [
    "### 2.2.2. Product Hypotheses"
   ]
  },
  {
   "cell_type": "markdown",
   "id": "074a2168",
   "metadata": {
    "ExecuteTime": {
     "end_time": "2022-06-16T13:46:45.407528Z",
     "start_time": "2022-06-16T13:46:45.397876Z"
    }
   },
   "source": [
    "1. Stores that invest more in Marketing should sell more.\n",
    "2. Stores with more product exposure should sell more.\n",
    "3. Stores with lower priced products should sell more.\n",
    "5. Stores with more aggressive promotions (bigger discounts) should sell more.\n",
    "6. Stores with longer running promotions should sell more.\n",
    "7. Stores with more promotion days should sell more.\n",
    "8. Stores with more consecutive promotions should sell more."
   ]
  },
  {
   "cell_type": "markdown",
   "id": "64eb9a95",
   "metadata": {},
   "source": [
    "### 2.2.3. Time Hypotheses"
   ]
  },
  {
   "cell_type": "markdown",
   "id": "68da4a08",
   "metadata": {},
   "source": [
    "1. Stores open during the Christmas holiday should sell more.\n",
    "2. Stores should sell more over the years.\n",
    "3. Stores should sell more in the second half of the year.\n",
    "4. Stores should sell more after the 10th of each month.\n",
    "5. Stores should sell less on weekends.\n",
    "6. Stores should sell less during school holidays."
   ]
  },
  {
   "cell_type": "markdown",
   "id": "75a0a3d7",
   "metadata": {},
   "source": [
    "## 2.3. Final List of Hypotheses"
   ]
  },
  {
   "cell_type": "markdown",
   "id": "b6ebddec",
   "metadata": {},
   "source": [
    "1. Stores with larger assortments should sell more.\n",
    "2. Stores with closer competitors should sell less.\n",
    "3. Stores with longer competitors should sell more.\n",
    "4. Stores with longer active promotions should sell more.\n",
    "5. Stores with more promotion days should sell more.\n",
    "6. Stores with more consecutive promotions should sell more.\n",
    "7. Stores open during the Christmas holiday should sell more.\n",
    "8. Stores should sell more over the years.\n",
    "9. Stores should sell more in the second half of the year.\n",
    "10. Stores should sell more after the 10th of each month.\n",
    "11. Stores should sell less on weekends.\n",
    "12. Stores should sell less during school holidays."
   ]
  },
  {
   "cell_type": "code",
   "execution_count": null,
   "id": "5752d04f",
   "metadata": {},
   "outputs": [],
   "source": []
  }
 ],
 "metadata": {
  "kernelspec": {
   "display_name": "Python 3 (ipykernel)",
   "language": "python",
   "name": "python3"
  },
  "language_info": {
   "codemirror_mode": {
    "name": "ipython",
    "version": 3
   },
   "file_extension": ".py",
   "mimetype": "text/x-python",
   "name": "python",
   "nbconvert_exporter": "python",
   "pygments_lexer": "ipython3",
   "version": "3.9.12"
  }
 },
 "nbformat": 4,
 "nbformat_minor": 5
}
