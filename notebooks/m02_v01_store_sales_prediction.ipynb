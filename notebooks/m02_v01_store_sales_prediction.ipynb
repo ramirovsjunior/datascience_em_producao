{
 "cells": [
  {
   "cell_type": "markdown",
   "id": "59b03915",
   "metadata": {},
   "source": [
    "# 1.0. IMPORTS"
   ]
  },
  {
   "cell_type": "code",
   "execution_count": 104,
   "id": "d0f8fc64",
   "metadata": {
    "ExecuteTime": {
     "end_time": "2022-06-12T19:31:31.449180Z",
     "start_time": "2022-06-12T19:31:31.442864Z"
    }
   },
   "outputs": [],
   "source": [
    "# Libraries\n",
    "import pandas as pd\n",
    "import numpy as np\n",
    "import inflection\n",
    "import math\n",
    "import seaborn as sns\n",
    "from matplotlib import pyplot as plt"
   ]
  },
  {
   "cell_type": "markdown",
   "id": "62ef9d87",
   "metadata": {},
   "source": [
    "## 1.1. Helper Functions"
   ]
  },
  {
   "cell_type": "markdown",
   "id": "7820b107",
   "metadata": {},
   "source": [
    "## 1.2. Loading Data"
   ]
  },
  {
   "cell_type": "code",
   "execution_count": 2,
   "id": "0d1d7604",
   "metadata": {
    "ExecuteTime": {
     "end_time": "2022-06-12T14:18:06.269864Z",
     "start_time": "2022-06-12T14:18:05.290474Z"
    }
   },
   "outputs": [],
   "source": [
    "df_sales_raw = pd.read_csv('data/train.csv', low_memory=False)\n",
    "df_store_raw = pd.read_csv('data/store.csv', low_memory=False)\n",
    "\n",
    "# Merge\n",
    "df_raw = pd.merge(df_sales_raw, df_store_raw, how='left', on='Store')"
   ]
  },
  {
   "cell_type": "markdown",
   "id": "38c0ac55",
   "metadata": {
    "ExecuteTime": {
     "end_time": "2022-06-09T18:33:51.376346Z",
     "start_time": "2022-06-09T18:33:51.144251Z"
    }
   },
   "source": [
    "# 2.0. DESCRIÇÃO DOS DADOS"
   ]
  },
  {
   "cell_type": "code",
   "execution_count": 3,
   "id": "eb2192de",
   "metadata": {
    "ExecuteTime": {
     "end_time": "2022-06-12T14:18:06.506121Z",
     "start_time": "2022-06-12T14:18:06.283821Z"
    }
   },
   "outputs": [],
   "source": [
    "df1 = df_raw.copy()"
   ]
  },
  {
   "cell_type": "markdown",
   "id": "2220e1cd",
   "metadata": {},
   "source": [
    "## 2.1. Rename Columns"
   ]
  },
  {
   "cell_type": "code",
   "execution_count": 4,
   "id": "464849a0",
   "metadata": {
    "ExecuteTime": {
     "end_time": "2022-06-12T14:18:06.521696Z",
     "start_time": "2022-06-12T14:18:06.512924Z"
    }
   },
   "outputs": [],
   "source": [
    "cols_old = ['Store', 'DayOfWeek', 'Date', 'Sales', 'Customers', 'Open', 'Promo', 'StateHoliday', 'SchoolHoliday', \n",
    "            'StoreType', 'Assortment', 'CompetitionDistance', 'CompetitionOpenSinceMonth', 'CompetitionOpenSinceYear', \n",
    "            'Promo2', 'Promo2SinceWeek', 'Promo2SinceYear', 'PromoInterval']\n",
    "\n",
    "snakecase = lambda x: inflection.underscore(x)\n",
    "cols_new = list(map(snakecase, cols_old))\n",
    "\n",
    "# Rename\n",
    "df1.columns = cols_new"
   ]
  },
  {
   "cell_type": "markdown",
   "id": "45b70899",
   "metadata": {
    "ExecuteTime": {
     "end_time": "2022-06-09T18:41:54.461467Z",
     "start_time": "2022-06-09T18:41:54.448446Z"
    }
   },
   "source": [
    "## 2.2. Data Dimensions"
   ]
  },
  {
   "cell_type": "code",
   "execution_count": 5,
   "id": "5f3f75ab",
   "metadata": {
    "ExecuteTime": {
     "end_time": "2022-06-12T14:18:06.532215Z",
     "start_time": "2022-06-12T14:18:06.524677Z"
    }
   },
   "outputs": [
    {
     "name": "stdout",
     "output_type": "stream",
     "text": [
      "Numeber of rows 1017209\n",
      "Numeber of cols 18\n"
     ]
    }
   ],
   "source": [
    "print('Numeber of rows {}'.format(df1.shape[0]))\n",
    "print('Numeber of cols {}'.format(df1.shape[1]))"
   ]
  },
  {
   "cell_type": "markdown",
   "id": "71a2db44",
   "metadata": {},
   "source": [
    "## 2.3. Data Types"
   ]
  },
  {
   "cell_type": "code",
   "execution_count": 6,
   "id": "933a83fb",
   "metadata": {
    "ExecuteTime": {
     "end_time": "2022-06-12T14:18:06.679457Z",
     "start_time": "2022-06-12T14:18:06.543748Z"
    }
   },
   "outputs": [
    {
     "data": {
      "text/plain": [
       "store                                    int64\n",
       "day_of_week                              int64\n",
       "date                            datetime64[ns]\n",
       "sales                                    int64\n",
       "customers                                int64\n",
       "open                                     int64\n",
       "promo                                    int64\n",
       "state_holiday                           object\n",
       "school_holiday                           int64\n",
       "store_type                              object\n",
       "assortment                              object\n",
       "competition_distance                   float64\n",
       "competition_open_since_month           float64\n",
       "competition_open_since_year            float64\n",
       "promo2                                   int64\n",
       "promo2_since_week                      float64\n",
       "promo2_since_year                      float64\n",
       "promo_interval                          object\n",
       "dtype: object"
      ]
     },
     "execution_count": 6,
     "metadata": {},
     "output_type": "execute_result"
    }
   ],
   "source": [
    "# Change format date\n",
    "df1['date'] = pd.to_datetime(df1['date'])\n",
    "df1.dtypes"
   ]
  },
  {
   "cell_type": "markdown",
   "id": "5896662d",
   "metadata": {},
   "source": [
    "## 2.4. Check NA"
   ]
  },
  {
   "cell_type": "code",
   "execution_count": 7,
   "id": "d7cfcfec",
   "metadata": {
    "ExecuteTime": {
     "end_time": "2022-06-12T14:18:07.297250Z",
     "start_time": "2022-06-12T14:18:06.682428Z"
    }
   },
   "outputs": [
    {
     "data": {
      "text/plain": [
       "store                                0\n",
       "day_of_week                          0\n",
       "date                                 0\n",
       "sales                                0\n",
       "customers                            0\n",
       "open                                 0\n",
       "promo                                0\n",
       "state_holiday                        0\n",
       "school_holiday                       0\n",
       "store_type                           0\n",
       "assortment                           0\n",
       "competition_distance              2642\n",
       "competition_open_since_month    323348\n",
       "competition_open_since_year     323348\n",
       "promo2                               0\n",
       "promo2_since_week               508031\n",
       "promo2_since_year               508031\n",
       "promo_interval                  508031\n",
       "dtype: int64"
      ]
     },
     "execution_count": 7,
     "metadata": {},
     "output_type": "execute_result"
    }
   ],
   "source": [
    "df1.isna().sum()"
   ]
  },
  {
   "cell_type": "markdown",
   "id": "864f8c57",
   "metadata": {},
   "source": [
    "## 1.5. Fillout NA"
   ]
  },
  {
   "cell_type": "code",
   "execution_count": 95,
   "id": "d85b28b0",
   "metadata": {
    "ExecuteTime": {
     "end_time": "2022-06-12T19:20:33.000126Z",
     "start_time": "2022-06-12T19:20:32.990586Z"
    }
   },
   "outputs": [
    {
     "data": {
      "text/plain": [
       "2000000.0"
      ]
     },
     "execution_count": 95,
     "metadata": {},
     "output_type": "execute_result"
    }
   ],
   "source": [
    "# Max value\n",
    "df1['competition_distance'].max()"
   ]
  },
  {
   "cell_type": "code",
   "execution_count": 96,
   "id": "dadbe827",
   "metadata": {
    "ExecuteTime": {
     "end_time": "2022-06-12T19:23:39.376251Z",
     "start_time": "2022-06-12T19:21:49.822784Z"
    }
   },
   "outputs": [],
   "source": [
    "# competition_distance \n",
    "df1['competition_distance'] = df1['competition_distance'].apply(lambda x: 2000000.0 if math.isnan(x) else x)\n",
    "\n",
    "# competition_open_since_month\n",
    "df1['competition_open_since_month'] = df1.apply(lambda x: x['date'].month if math.isnan(x['competition_open_since_month']) \n",
    "                                                else x['competition_open_since_month'], axis=1)\n",
    "\n",
    "# competition_open_since_year                            \n",
    "df1['competition_open_since_year'] = df1.apply(lambda x: x['date'].year if math.isnan(x['competition_open_since_year']) \n",
    "                                                else x['competition_open_since_year'], axis=1)\n",
    "\n",
    "# promo2_since_week\n",
    "df1['promo2_since_week'] = df1.apply(lambda x: x['date'].week if math.isnan(x['promo2_since_week']) \n",
    "                                                else x['promo2_since_week'], axis=1)\n",
    "# promo2_since_year\n",
    "df1['promo2_since_year'] = df1.apply(lambda x: x['date'].year if math.isnan(x['promo2_since_year']) \n",
    "                                                else x['promo2_since_year'], axis=1)\n",
    "# promo_interval      \n",
    "month_map = {1: 'Jan', 2: 'Feb', 3: 'Mar', 4: 'Apr', 5: 'May', 6: 'Jun', 7: 'Jul', 8: 'Aug', 9: 'Sept', 10: 'Oct', 11: 'Nov', 12: 'Dec', }\n",
    "\n",
    "# Does not return value, changes directly in column\n",
    "df1['promo_interval'].fillna(0, inplace=True)\n",
    "\n",
    "df1['month_map'] = df1['date'].dt.month.map(month_map)\n",
    "\n",
    "df1['is_promo'] = df1[['promo_interval', 'month_map']].apply(lambda x: 0 if x['promo_interval'] == 0 \n",
    "                                                             else 1 if x['month_map'] in x['promo_interval'].split(',') else 0, axis=1)"
   ]
  },
  {
   "cell_type": "code",
   "execution_count": 97,
   "id": "84c2f6ea",
   "metadata": {
    "ExecuteTime": {
     "end_time": "2022-06-12T19:23:40.126770Z",
     "start_time": "2022-06-12T19:23:39.380199Z"
    }
   },
   "outputs": [
    {
     "data": {
      "text/plain": [
       "store                           0\n",
       "day_of_week                     0\n",
       "date                            0\n",
       "sales                           0\n",
       "customers                       0\n",
       "open                            0\n",
       "promo                           0\n",
       "state_holiday                   0\n",
       "school_holiday                  0\n",
       "store_type                      0\n",
       "assortment                      0\n",
       "competition_distance            0\n",
       "competition_open_since_month    0\n",
       "competition_open_since_year     0\n",
       "promo2                          0\n",
       "promo2_since_week               0\n",
       "promo2_since_year               0\n",
       "promo_interval                  0\n",
       "month_map                       0\n",
       "is_promo                        0\n",
       "dtype: int64"
      ]
     },
     "execution_count": 97,
     "metadata": {},
     "output_type": "execute_result"
    }
   ],
   "source": [
    "df1.isna().sum()"
   ]
  },
  {
   "cell_type": "markdown",
   "id": "5815ff00",
   "metadata": {},
   "source": [
    "## 1.6. Change Types"
   ]
  },
  {
   "cell_type": "code",
   "execution_count": 91,
   "id": "d838ebb4",
   "metadata": {
    "ExecuteTime": {
     "end_time": "2022-06-12T19:19:31.240686Z",
     "start_time": "2022-06-12T19:19:31.232346Z"
    }
   },
   "outputs": [
    {
     "data": {
      "text/plain": [
       "store                                    int64\n",
       "day_of_week                              int64\n",
       "date                            datetime64[ns]\n",
       "sales                                    int64\n",
       "customers                                int64\n",
       "open                                     int64\n",
       "promo                                    int64\n",
       "state_holiday                           object\n",
       "school_holiday                           int64\n",
       "store_type                              object\n",
       "assortment                              object\n",
       "competition_distance                   float64\n",
       "competition_open_since_month             int64\n",
       "competition_open_since_year              int64\n",
       "promo2                                   int64\n",
       "promo2_since_week                        int64\n",
       "promo2_since_year                        int64\n",
       "promo_interval                          object\n",
       "month_map                               object\n",
       "is_promo                                 int64\n",
       "dtype: object"
      ]
     },
     "execution_count": 91,
     "metadata": {},
     "output_type": "execute_result"
    }
   ],
   "source": [
    "# Verify Data Types\n",
    "df1.dtypes"
   ]
  },
  {
   "cell_type": "code",
   "execution_count": 37,
   "id": "20decdf0",
   "metadata": {
    "ExecuteTime": {
     "end_time": "2022-06-12T15:13:30.569414Z",
     "start_time": "2022-06-12T15:13:30.532511Z"
    }
   },
   "outputs": [],
   "source": [
    "# Change data types\n",
    "df1['competition_open_since_month'] = df1['competition_open_since_month'].astype(int)\n",
    "df1['competition_open_since_year'] = df1['competition_open_since_year'].astype(int)\n",
    "df1['promo2_since_week'] = df1['promo2_since_week'].astype(int)\n",
    "df1['promo2_since_year'] = df1['promo2_since_year'].astype(int)"
   ]
  },
  {
   "cell_type": "markdown",
   "id": "decb19ce",
   "metadata": {},
   "source": [
    "## 1.7. Descriptive Statistical"
   ]
  },
  {
   "cell_type": "markdown",
   "id": "0092f142",
   "metadata": {},
   "source": [
    "### 1.7.1. Numerical Attributes"
   ]
  },
  {
   "cell_type": "code",
   "execution_count": 92,
   "id": "376dee38",
   "metadata": {
    "ExecuteTime": {
     "end_time": "2022-06-12T19:19:51.997489Z",
     "start_time": "2022-06-12T19:19:48.839978Z"
    }
   },
   "outputs": [],
   "source": [
    "# Numeric Data.\n",
    "numeric_attributes = df1.select_dtypes(include=['int64', 'float64'])\n",
    "\n",
    "# Central Tendency - Numeric Data: mean and median.\n",
    "central_tendency_mean = pd.DataFrame(numeric_attributes.apply(np.mean)).T\n",
    "central_tendency_median = pd.DataFrame(numeric_attributes.apply(np.median)).T\n",
    "\n",
    "# Dispersion: std, min, max, range, skew and kurtosis.\n",
    "dispersion_std = pd.DataFrame(numeric_attributes.apply(np.std)).T\n",
    "dispersion_min = pd.DataFrame(numeric_attributes.apply(min)).T\n",
    "dispersion_max = pd.DataFrame(numeric_attributes.apply(max)).T\n",
    "dispersion_range = pd.DataFrame(numeric_attributes.apply(lambda x: x.max() - x.min())).T\n",
    "dispersion_skew = pd.DataFrame(numeric_attributes.apply(lambda x: x.skew())).T\n",
    "dispersion_kurtosis = pd.DataFrame(numeric_attributes.apply(lambda x: x.kurtosis())).T\n",
    "\n",
    "# Concatenate\n",
    "metrics = pd.concat([dispersion_min, dispersion_max, dispersion_range, dispersion_std,\n",
    "                    central_tendency_mean, central_tendency_median, dispersion_skew, dispersion_kurtosis]).T.reset_index()\n",
    "\n",
    "# Rename Columns\n",
    "metrics.columns = ['Attributes', 'Min', 'Max', 'Range', 'Std', 'Mean', 'Median', 'Skew', 'Kurtosis']"
   ]
  },
  {
   "cell_type": "code",
   "execution_count": 98,
   "id": "99e5b923",
   "metadata": {
    "ExecuteTime": {
     "end_time": "2022-06-12T19:23:40.162839Z",
     "start_time": "2022-06-12T19:23:40.130811Z"
    }
   },
   "outputs": [
    {
     "data": {
      "text/html": [
       "<div>\n",
       "<style scoped>\n",
       "    .dataframe tbody tr th:only-of-type {\n",
       "        vertical-align: middle;\n",
       "    }\n",
       "\n",
       "    .dataframe tbody tr th {\n",
       "        vertical-align: top;\n",
       "    }\n",
       "\n",
       "    .dataframe thead th {\n",
       "        text-align: right;\n",
       "    }\n",
       "</style>\n",
       "<table border=\"1\" class=\"dataframe\">\n",
       "  <thead>\n",
       "    <tr style=\"text-align: right;\">\n",
       "      <th></th>\n",
       "      <th>Attributes</th>\n",
       "      <th>Min</th>\n",
       "      <th>Max</th>\n",
       "      <th>Range</th>\n",
       "      <th>Std</th>\n",
       "      <th>Mean</th>\n",
       "      <th>Median</th>\n",
       "      <th>Skew</th>\n",
       "      <th>Kurtosis</th>\n",
       "    </tr>\n",
       "  </thead>\n",
       "  <tbody>\n",
       "    <tr>\n",
       "      <th>0</th>\n",
       "      <td>store</td>\n",
       "      <td>1.0</td>\n",
       "      <td>1115.0</td>\n",
       "      <td>1114.0</td>\n",
       "      <td>321.908493</td>\n",
       "      <td>558.429727</td>\n",
       "      <td>558.0</td>\n",
       "      <td>-0.000955</td>\n",
       "      <td>-1.200524</td>\n",
       "    </tr>\n",
       "    <tr>\n",
       "      <th>1</th>\n",
       "      <td>day_of_week</td>\n",
       "      <td>1.0</td>\n",
       "      <td>7.0</td>\n",
       "      <td>6.0</td>\n",
       "      <td>1.997390</td>\n",
       "      <td>3.998341</td>\n",
       "      <td>4.0</td>\n",
       "      <td>0.001593</td>\n",
       "      <td>-1.246873</td>\n",
       "    </tr>\n",
       "    <tr>\n",
       "      <th>2</th>\n",
       "      <td>sales</td>\n",
       "      <td>0.0</td>\n",
       "      <td>41551.0</td>\n",
       "      <td>41551.0</td>\n",
       "      <td>3849.924283</td>\n",
       "      <td>5773.818972</td>\n",
       "      <td>5744.0</td>\n",
       "      <td>0.641460</td>\n",
       "      <td>1.778375</td>\n",
       "    </tr>\n",
       "    <tr>\n",
       "      <th>3</th>\n",
       "      <td>customers</td>\n",
       "      <td>0.0</td>\n",
       "      <td>7388.0</td>\n",
       "      <td>7388.0</td>\n",
       "      <td>464.411506</td>\n",
       "      <td>633.145946</td>\n",
       "      <td>609.0</td>\n",
       "      <td>1.598650</td>\n",
       "      <td>7.091773</td>\n",
       "    </tr>\n",
       "    <tr>\n",
       "      <th>4</th>\n",
       "      <td>open</td>\n",
       "      <td>0.0</td>\n",
       "      <td>1.0</td>\n",
       "      <td>1.0</td>\n",
       "      <td>0.375539</td>\n",
       "      <td>0.830107</td>\n",
       "      <td>1.0</td>\n",
       "      <td>-1.758045</td>\n",
       "      <td>1.090723</td>\n",
       "    </tr>\n",
       "    <tr>\n",
       "      <th>5</th>\n",
       "      <td>promo</td>\n",
       "      <td>0.0</td>\n",
       "      <td>1.0</td>\n",
       "      <td>1.0</td>\n",
       "      <td>0.485758</td>\n",
       "      <td>0.381515</td>\n",
       "      <td>0.0</td>\n",
       "      <td>0.487838</td>\n",
       "      <td>-1.762018</td>\n",
       "    </tr>\n",
       "    <tr>\n",
       "      <th>6</th>\n",
       "      <td>school_holiday</td>\n",
       "      <td>0.0</td>\n",
       "      <td>1.0</td>\n",
       "      <td>1.0</td>\n",
       "      <td>0.383056</td>\n",
       "      <td>0.178647</td>\n",
       "      <td>0.0</td>\n",
       "      <td>1.677842</td>\n",
       "      <td>0.815154</td>\n",
       "    </tr>\n",
       "    <tr>\n",
       "      <th>7</th>\n",
       "      <td>competition_distance</td>\n",
       "      <td>20.0</td>\n",
       "      <td>2000000.0</td>\n",
       "      <td>1999980.0</td>\n",
       "      <td>101810.649100</td>\n",
       "      <td>10610.588099</td>\n",
       "      <td>2330.0</td>\n",
       "      <td>19.378002</td>\n",
       "      <td>375.644405</td>\n",
       "    </tr>\n",
       "    <tr>\n",
       "      <th>8</th>\n",
       "      <td>competition_open_since_month</td>\n",
       "      <td>1.0</td>\n",
       "      <td>12.0</td>\n",
       "      <td>11.0</td>\n",
       "      <td>3.311085</td>\n",
       "      <td>6.786849</td>\n",
       "      <td>7.0</td>\n",
       "      <td>-0.042076</td>\n",
       "      <td>-1.232607</td>\n",
       "    </tr>\n",
       "    <tr>\n",
       "      <th>9</th>\n",
       "      <td>competition_open_since_year</td>\n",
       "      <td>1900.0</td>\n",
       "      <td>2015.0</td>\n",
       "      <td>115.0</td>\n",
       "      <td>5.515591</td>\n",
       "      <td>2010.324840</td>\n",
       "      <td>2012.0</td>\n",
       "      <td>-7.235657</td>\n",
       "      <td>124.071304</td>\n",
       "    </tr>\n",
       "    <tr>\n",
       "      <th>10</th>\n",
       "      <td>promo2</td>\n",
       "      <td>0.0</td>\n",
       "      <td>1.0</td>\n",
       "      <td>1.0</td>\n",
       "      <td>0.500000</td>\n",
       "      <td>0.500564</td>\n",
       "      <td>1.0</td>\n",
       "      <td>-0.002255</td>\n",
       "      <td>-1.999999</td>\n",
       "    </tr>\n",
       "    <tr>\n",
       "      <th>11</th>\n",
       "      <td>promo2_since_week</td>\n",
       "      <td>1.0</td>\n",
       "      <td>52.0</td>\n",
       "      <td>51.0</td>\n",
       "      <td>14.310057</td>\n",
       "      <td>23.619033</td>\n",
       "      <td>22.0</td>\n",
       "      <td>0.178723</td>\n",
       "      <td>-1.184046</td>\n",
       "    </tr>\n",
       "    <tr>\n",
       "      <th>12</th>\n",
       "      <td>promo2_since_year</td>\n",
       "      <td>2009.0</td>\n",
       "      <td>2015.0</td>\n",
       "      <td>6.0</td>\n",
       "      <td>1.662657</td>\n",
       "      <td>2012.793297</td>\n",
       "      <td>2013.0</td>\n",
       "      <td>-0.784436</td>\n",
       "      <td>-0.210075</td>\n",
       "    </tr>\n",
       "    <tr>\n",
       "      <th>13</th>\n",
       "      <td>is_promo</td>\n",
       "      <td>0.0</td>\n",
       "      <td>1.0</td>\n",
       "      <td>1.0</td>\n",
       "      <td>0.377237</td>\n",
       "      <td>0.171835</td>\n",
       "      <td>0.0</td>\n",
       "      <td>1.739838</td>\n",
       "      <td>1.027039</td>\n",
       "    </tr>\n",
       "  </tbody>\n",
       "</table>\n",
       "</div>"
      ],
      "text/plain": [
       "                      Attributes     Min        Max      Range            Std  \\\n",
       "0                          store     1.0     1115.0     1114.0     321.908493   \n",
       "1                    day_of_week     1.0        7.0        6.0       1.997390   \n",
       "2                          sales     0.0    41551.0    41551.0    3849.924283   \n",
       "3                      customers     0.0     7388.0     7388.0     464.411506   \n",
       "4                           open     0.0        1.0        1.0       0.375539   \n",
       "5                          promo     0.0        1.0        1.0       0.485758   \n",
       "6                 school_holiday     0.0        1.0        1.0       0.383056   \n",
       "7           competition_distance    20.0  2000000.0  1999980.0  101810.649100   \n",
       "8   competition_open_since_month     1.0       12.0       11.0       3.311085   \n",
       "9    competition_open_since_year  1900.0     2015.0      115.0       5.515591   \n",
       "10                        promo2     0.0        1.0        1.0       0.500000   \n",
       "11             promo2_since_week     1.0       52.0       51.0      14.310057   \n",
       "12             promo2_since_year  2009.0     2015.0        6.0       1.662657   \n",
       "13                      is_promo     0.0        1.0        1.0       0.377237   \n",
       "\n",
       "            Mean  Median       Skew    Kurtosis  \n",
       "0     558.429727   558.0  -0.000955   -1.200524  \n",
       "1       3.998341     4.0   0.001593   -1.246873  \n",
       "2    5773.818972  5744.0   0.641460    1.778375  \n",
       "3     633.145946   609.0   1.598650    7.091773  \n",
       "4       0.830107     1.0  -1.758045    1.090723  \n",
       "5       0.381515     0.0   0.487838   -1.762018  \n",
       "6       0.178647     0.0   1.677842    0.815154  \n",
       "7   10610.588099  2330.0  19.378002  375.644405  \n",
       "8       6.786849     7.0  -0.042076   -1.232607  \n",
       "9    2010.324840  2012.0  -7.235657  124.071304  \n",
       "10      0.500564     1.0  -0.002255   -1.999999  \n",
       "11     23.619033    22.0   0.178723   -1.184046  \n",
       "12   2012.793297  2013.0  -0.784436   -0.210075  \n",
       "13      0.171835     0.0   1.739838    1.027039  "
      ]
     },
     "execution_count": 98,
     "metadata": {},
     "output_type": "execute_result"
    }
   ],
   "source": [
    "metrics"
   ]
  },
  {
   "cell_type": "code",
   "execution_count": 65,
   "id": "8769202c",
   "metadata": {
    "ExecuteTime": {
     "end_time": "2022-06-12T18:14:11.074995Z",
     "start_time": "2022-06-12T18:14:08.404830Z"
    }
   },
   "outputs": [
    {
     "name": "stderr",
     "output_type": "stream",
     "text": [
      "/Users/ramirovsjunior/opt/anaconda3/envs/dsemproducao/lib/python3.9/site-packages/seaborn/distributions.py:2619: FutureWarning: `distplot` is a deprecated function and will be removed in a future version. Please adapt your code to use either `displot` (a figure-level function with similar flexibility) or `histplot` (an axes-level function for histograms).\n",
      "  warnings.warn(msg, FutureWarning)\n"
     ]
    },
    {
     "data": {
      "text/plain": [
       "<AxesSubplot:xlabel='competition_distance', ylabel='Density'>"
      ]
     },
     "execution_count": 65,
     "metadata": {},
     "output_type": "execute_result"
    },
    {
     "data": {
      "image/png": "[encoded data removed]",
      "text/plain": [
       "<Figure size 432x288 with 1 Axes>"
      ]
     },
     "metadata": {
      "needs_background": "light"
     },
     "output_type": "display_data"
    }
   ],
   "source": [
    "sns.distplot(df1['competition_distance'])"
   ]
  },
  {
   "cell_type": "markdown",
   "id": "58a89730",
   "metadata": {},
   "source": [
    "### 1.7.2. Categorical Attributes"
   ]
  },
  {
   "cell_type": "code",
   "execution_count": 66,
   "id": "c29c9a33",
   "metadata": {
    "ExecuteTime": {
     "end_time": "2022-06-12T18:16:47.250326Z",
     "start_time": "2022-06-12T18:16:47.244380Z"
    }
   },
   "outputs": [],
   "source": [
    "# Categorical Data\n",
    "categorical_attributes = df1.select_dtypes(exclude=['int64', 'float64', 'datetime64[ns]'])"
   ]
  },
  {
   "cell_type": "code",
   "execution_count": 67,
   "id": "403b933d",
   "metadata": {
    "ExecuteTime": {
     "end_time": "2022-06-12T18:38:15.779748Z",
     "start_time": "2022-06-12T18:38:15.559234Z"
    }
   },
   "outputs": [
    {
     "data": {
      "text/plain": [
       "state_holiday      4\n",
       "store_type         4\n",
       "assortment         3\n",
       "promo_interval     4\n",
       "month_map         12\n",
       "dtype: int64"
      ]
     },
     "execution_count": 67,
     "metadata": {},
     "output_type": "execute_result"
    }
   ],
   "source": [
    "# Check Number of Categorical Levels\n",
    "categorical_attributes.apply(lambda x: x.unique().shape[0])"
   ]
  },
  {
   "cell_type": "code",
   "execution_count": 110,
   "id": "c180e1d3",
   "metadata": {
    "ExecuteTime": {
     "end_time": "2022-06-12T19:34:29.720102Z",
     "start_time": "2022-06-12T19:34:28.095267Z"
    }
   },
   "outputs": [
    {
     "data": {
      "text/plain": [
       "<AxesSubplot:xlabel='assortment', ylabel='sales'>"
      ]
     },
     "execution_count": 110,
     "metadata": {},
     "output_type": "execute_result"
    },
    {
     "data": {
      "image/png": "[encoded data removed]",
      "text/plain": [
       "<Figure size 432x288 with 3 Axes>"
      ]
     },
     "metadata": {
      "needs_background": "light"
     },
     "output_type": "display_data"
    }
   ],
   "source": [
    "# Filter with effective sales.\n",
    "effective_sales = df1[(df1['state_holiday'] != 0) & (df1['sales'] > 0)]\n",
    "\n",
    "# Graphic\n",
    "plt.subplot(1, 3, 1)\n",
    "sns.boxplot(x='state_holiday', y='sales', data=effective_sales)\n",
    "\n",
    "plt.subplot(1, 3, 2)\n",
    "sns.boxplot(x='store_type', y='sales', data=effective_sales)\n",
    "\n",
    "plt.subplot(1, 3, 3)\n",
    "sns.boxplot(x='assortment', y='sales', data=effective_sales)"
   ]
  },
  {
   "cell_type": "code",
   "execution_count": null,
   "id": "4523702d",
   "metadata": {},
   "outputs": [],
   "source": []
  }
 ],
 "metadata": {
  "kernelspec": {
   "display_name": "Python 3 (ipykernel)",
   "language": "python",
   "name": "python3"
  },
  "language_info": {
   "codemirror_mode": {
    "name": "ipython",
    "version": 3
   },
   "file_extension": ".py",
   "mimetype": "text/x-python",
   "name": "python",
   "nbconvert_exporter": "python",
   "pygments_lexer": "ipython3",
   "version": "3.9.12"
  }
 },
 "nbformat": 4,
 "nbformat_minor": 5
}
